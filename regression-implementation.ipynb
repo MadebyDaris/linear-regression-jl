{
 "cells": [
  {
   "cell_type": "code",
   "execution_count": 1,
   "metadata": {},
   "outputs": [],
   "source": [
    "using Random, Distributions, LinearAlgebra, DataFrames\n",
    "using Plots"
   ]
  },
  {
   "attachments": {},
   "cell_type": "markdown",
   "metadata": {},
   "source": [
    "#### Parameters"
   ]
  },
  {
   "cell_type": "code",
   "execution_count": 2,
   "metadata": {},
   "outputs": [
    {
     "data": {
      "text/plain": [
       "10"
      ]
     },
     "metadata": {},
     "output_type": "display_data"
    }
   ],
   "source": [
    "# Inference\n",
    "num_in = 100\n",
    "σ = 0.1\n",
    "\n",
    "# Parameters\n",
    "noise = 0.1\n",
    "d = rand(Normal(0, 0.01), num_in)\n",
    "\n",
    "true_w = [2, -3.4]\n",
    "true_b = 4.2\n",
    "lr = 0.03\n",
    "\n",
    "# Train\n",
    "num_train=10\n",
    "num_val=10"
   ]
  },
  {
   "attachments": {},
   "cell_type": "markdown",
   "metadata": {},
   "source": [
    "### Generating Synthetic Regression Data\n",
    "we will be generating a dataset following\n",
    "$$ \\mathbf{y}= \\mathbf{X} \\mathbf{w} + b + e $$\n",
    "where e is noise drawn from a normal distribution"
   ]
  },
  {
   "cell_type": "code",
   "execution_count": 3,
   "metadata": {},
   "outputs": [
    {
     "data": {
      "text/plain": [
       "regression_data (generic function with 1 method)"
      ]
     },
     "metadata": {},
     "output_type": "display_data"
    }
   ],
   "source": [
    "function regression_data(w, b, noise, n, batch_size)\n",
    "    noise = rand(Float64, (n, 1))\n",
    "\n",
    "    train_X = rand(Normal(0, 1), (n, 2))\n",
    "\n",
    "    train_Y = dot(train_X, reshape(w, :, 1))\n",
    "    train_Y = train_Y + noise\n",
    "    foreach(x -> x + b, train_Y)\n",
    "\n",
    "    train_data = (train_X, train_Y)\n",
    "    return train_data\n",
    "end"
   ]
  },
  {
   "cell_type": "code",
   "execution_count": 4,
   "metadata": {},
   "outputs": [],
   "source": []
  },
  {
   "cell_type": "code",
   "execution_count": 5,
   "metadata": {},
   "outputs": [
    {
     "data": {
      "text/plain": [
       "iter_data (generic function with 1 method)"
      ]
     },
     "metadata": {},
     "output_type": "display_data"
    }
   ],
   "source": [
    "function iter_data(batch, features, labels, num_train, num_val)\n",
    "    batch_x = []\n",
    "    batch_y = []\n",
    "\n",
    "    indices = collect(num_train: 1: num_train + num_val)\n",
    "    for i in length(collect(0: length(indices): batch_size))\n",
    "        batch_indices = indices[i: i+batch_size]\n",
    "        for k in batch_indices\n",
    "            println(k)\n",
    "            push!(batch_x, features[k])\n",
    "            push!(batch_y, labels[k])\n",
    "        end\n",
    "    end\n",
    "    \n",
    "    batch_t = (batch_x, batch_y)  \n",
    "    return batch_t\n",
    "end"
   ]
  },
  {
   "cell_type": "code",
   "execution_count": 6,
   "metadata": {},
   "outputs": [
    {
     "ename": "MethodError",
     "evalue": "MethodError: no method matching regression_data(::Vector{Float64}, ::Float64, ::Float64, ::Int64, ::Int64, ::Int64)\nClosest candidates are:\n  regression_data(::Any, ::Any, ::Any, ::Any, ::Any) at ~/ws/jlws/machine-learning/regression-implementation.ipynb:1",
     "output_type": "error",
     "traceback": [
      "MethodError: no method matching regression_data(::Vector{Float64}, ::Float64, ::Float64, ::Int64, ::Int64, ::Int64)\n",
      "Closest candidates are:\n",
      "  regression_data(::Any, ::Any, ::Any, ::Any, ::Any) at ~/ws/jlws/machine-learning/regression-implementation.ipynb:1\n",
      "\n",
      "Stacktrace:\n",
      " [1] top-level scope\n",
      "   @ ~/ws/jlws/machine-learning/regression-implementation.ipynb:1"
     ]
    }
   ],
   "source": [
    "t = regression_data(true_w, true_b, noise, num_train, num_val, 32)\n",
    "batch_size = 2\n",
    "\n",
    "features = t[1]\n",
    "labels = t[2]\n",
    "\n",
    "for i in iter_data(batch_size, features, labels, num_train, num_val)\n",
    "    # print(i[1], \"\\n\", i[2])\n",
    "end"
   ]
  },
  {
   "attachments": {},
   "cell_type": "markdown",
   "metadata": {},
   "source": [
    "### Implementing Linear Regression"
   ]
  },
  {
   "cell_type": "code",
   "execution_count": 7,
   "metadata": {},
   "outputs": [
    {
     "data": {
      "text/plain": [
       "loss (generic function with 1 method)"
      ]
     },
     "metadata": {},
     "output_type": "display_data"
    }
   ],
   "source": [
    "function forward(w, b, X)\n",
    "    return dot(X, w) + b\n",
    "end\n",
    "\n",
    "function loss(y_hat, y)\n",
    "    l = (y_hat - y) ^ 2 / 2\n",
    "    return l.mean()\n",
    "end"
   ]
  },
  {
   "cell_type": "code",
   "execution_count": 8,
   "metadata": {},
   "outputs": [
    {
     "data": {
      "text/plain": [
       "1-element Vector{Int64}:\n",
       " 0"
      ]
     },
     "metadata": {},
     "output_type": "display_data"
    }
   ],
   "source": [
    "w = rand(Normal(0, σ), num_in)\n",
    "b = [0]"
   ]
  },
  {
   "cell_type": "code",
   "execution_count": 9,
   "metadata": {},
   "outputs": [
    {
     "ename": "ErrorException",
     "evalue": "syntax: invalid iteration specification",
     "output_type": "error",
     "traceback": [
      "syntax: invalid iteration specification\n",
      "\n",
      "Stacktrace:\n",
      " [1] top-level scope\n",
      "   @ ~/ws/jlws/machine-learning/regression-implementation.ipynb:1"
     ]
    }
   ],
   "source": [
    "for X, Y in regression_data"
   ]
  },
  {
   "attachments": {},
   "cell_type": "markdown",
   "metadata": {},
   "source": [
    "#### Minibatch stochastic gradient descent"
   ]
  },
  {
   "cell_type": "code",
   "execution_count": 10,
   "metadata": {},
   "outputs": [
    {
     "data": {
      "text/plain": [
       "([[0.13245151587115025, -0.0926961730263247, 0.2059078190983148, -0.09876989157774738, -0.08974317638518305, 0.17529417962503396, -0.043286009248646916, -0.07348466238445621, 0.004726019817141789, -0.1623778124861444  …  0.06853819747916663, -0.08826539649900779, -0.09414181640231148, -0.05423403774455469, 0.0002278943470217204, -0.0774496646720455, -0.09486766721688165, 0.14131752738757108, -0.03045731371252631, 0.00333132990867284], [0.0]], 0.03)"
      ]
     },
     "metadata": {},
     "output_type": "display_data"
    }
   ],
   "source": [
    "sgd = ([w, b],lr)"
   ]
  }
 ],
 "metadata": {
  "kernelspec": {
   "display_name": "Julia 1.7.1",
   "language": "julia",
   "name": "julia-1.7"
  },
  "language_info": {
   "file_extension": ".jl",
   "mimetype": "application/julia",
   "name": "julia",
   "version": "1.7.1"
  },
  "orig_nbformat": 4
 },
 "nbformat": 4,
 "nbformat_minor": 2
}
